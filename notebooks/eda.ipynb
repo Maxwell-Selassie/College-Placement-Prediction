{
 "cells": [
  {
   "cell_type": "markdown",
   "id": "999626ad",
   "metadata": {
    "vscode": {
     "languageId": "bat"
    }
   },
   "source": [
    "# ***`College Placement Prediction`***"
   ]
  },
  {
   "cell_type": "markdown",
   "id": "7a9be8d7",
   "metadata": {},
   "source": [
    "`This is a machine learning model to predict wether a student got placement into college or not. This analysis made based on features such as IQ, internship experience, academic performance, among others. The goal of this project is to build an end-to-end machine learning model to be able to predict whether a student will receive placement into college based on the certain feeatures`"
   ]
  },
  {
   "cell_type": "code",
   "execution_count": 1,
   "id": "79e4ba9d",
   "metadata": {},
   "outputs": [],
   "source": [
    "# import libraries\n",
    "import warnings\n",
    "warnings.filterwarnings('ignore') # suppress warnings\n",
    "\n",
    "import pandas as pd\n",
    "import numpy as np\n",
    "import matplotlib.pyplot as plt\n",
    "import seaborn as sns\n",
    "import os"
   ]
  },
  {
   "cell_type": "code",
   "execution_count": 3,
   "id": "ed58084f",
   "metadata": {},
   "outputs": [],
   "source": [
    "# load dataset\n",
    "if os.path.exists('../data/CollegePlacement.csv'):\n",
    "    df = pd.read_csv('../data/CollegePlacement.csv')\n",
    "else:\n",
    "    raise FileNotFoundError('File Not Found! Check file-path and try again!')"
   ]
  },
  {
   "cell_type": "markdown",
   "id": "57568786",
   "metadata": {},
   "source": [
    "# *``Basic Exploratory Data Analysis``*"
   ]
  },
  {
   "cell_type": "code",
   "execution_count": 4,
   "id": "35a4e0e4",
   "metadata": {},
   "outputs": [
    {
     "data": {
      "application/vnd.microsoft.datawrangler.viewer.v0+json": {
       "columns": [
        {
         "name": "index",
         "rawType": "int64",
         "type": "integer"
        },
        {
         "name": "College_ID",
         "rawType": "object",
         "type": "string"
        },
        {
         "name": "IQ",
         "rawType": "int64",
         "type": "integer"
        },
        {
         "name": "Prev_Sem_Result",
         "rawType": "float64",
         "type": "float"
        },
        {
         "name": "CGPA",
         "rawType": "float64",
         "type": "float"
        },
        {
         "name": "Academic_Performance",
         "rawType": "int64",
         "type": "integer"
        },
        {
         "name": "Internship_Experience",
         "rawType": "object",
         "type": "string"
        },
        {
         "name": "Extra_Curricular_Score",
         "rawType": "int64",
         "type": "integer"
        },
        {
         "name": "Communication_Skills",
         "rawType": "int64",
         "type": "integer"
        },
        {
         "name": "Projects_Completed",
         "rawType": "int64",
         "type": "integer"
        },
        {
         "name": "Placement",
         "rawType": "object",
         "type": "string"
        }
       ],
       "ref": "31cd2baf-cb29-4ab6-a3c6-b32c9eadfd67",
       "rows": [
        [
         "0",
         "CLG0030",
         "107",
         "6.61",
         "6.28",
         "8",
         "No",
         "8",
         "8",
         "4",
         "No"
        ],
        [
         "1",
         "CLG0061",
         "97",
         "5.52",
         "5.37",
         "8",
         "No",
         "7",
         "8",
         "0",
         "No"
        ],
        [
         "2",
         "CLG0036",
         "109",
         "5.36",
         "5.83",
         "9",
         "No",
         "3",
         "1",
         "1",
         "No"
        ],
        [
         "3",
         "CLG0055",
         "122",
         "5.47",
         "5.75",
         "6",
         "Yes",
         "1",
         "6",
         "1",
         "No"
        ],
        [
         "4",
         "CLG0004",
         "96",
         "7.91",
         "7.69",
         "7",
         "No",
         "8",
         "10",
         "2",
         "No"
        ]
       ],
       "shape": {
        "columns": 10,
        "rows": 5
       }
      },
      "text/html": [
       "<div>\n",
       "<style scoped>\n",
       "    .dataframe tbody tr th:only-of-type {\n",
       "        vertical-align: middle;\n",
       "    }\n",
       "\n",
       "    .dataframe tbody tr th {\n",
       "        vertical-align: top;\n",
       "    }\n",
       "\n",
       "    .dataframe thead th {\n",
       "        text-align: right;\n",
       "    }\n",
       "</style>\n",
       "<table border=\"1\" class=\"dataframe\">\n",
       "  <thead>\n",
       "    <tr style=\"text-align: right;\">\n",
       "      <th></th>\n",
       "      <th>College_ID</th>\n",
       "      <th>IQ</th>\n",
       "      <th>Prev_Sem_Result</th>\n",
       "      <th>CGPA</th>\n",
       "      <th>Academic_Performance</th>\n",
       "      <th>Internship_Experience</th>\n",
       "      <th>Extra_Curricular_Score</th>\n",
       "      <th>Communication_Skills</th>\n",
       "      <th>Projects_Completed</th>\n",
       "      <th>Placement</th>\n",
       "    </tr>\n",
       "  </thead>\n",
       "  <tbody>\n",
       "    <tr>\n",
       "      <th>0</th>\n",
       "      <td>CLG0030</td>\n",
       "      <td>107</td>\n",
       "      <td>6.61</td>\n",
       "      <td>6.28</td>\n",
       "      <td>8</td>\n",
       "      <td>No</td>\n",
       "      <td>8</td>\n",
       "      <td>8</td>\n",
       "      <td>4</td>\n",
       "      <td>No</td>\n",
       "    </tr>\n",
       "    <tr>\n",
       "      <th>1</th>\n",
       "      <td>CLG0061</td>\n",
       "      <td>97</td>\n",
       "      <td>5.52</td>\n",
       "      <td>5.37</td>\n",
       "      <td>8</td>\n",
       "      <td>No</td>\n",
       "      <td>7</td>\n",
       "      <td>8</td>\n",
       "      <td>0</td>\n",
       "      <td>No</td>\n",
       "    </tr>\n",
       "    <tr>\n",
       "      <th>2</th>\n",
       "      <td>CLG0036</td>\n",
       "      <td>109</td>\n",
       "      <td>5.36</td>\n",
       "      <td>5.83</td>\n",
       "      <td>9</td>\n",
       "      <td>No</td>\n",
       "      <td>3</td>\n",
       "      <td>1</td>\n",
       "      <td>1</td>\n",
       "      <td>No</td>\n",
       "    </tr>\n",
       "    <tr>\n",
       "      <th>3</th>\n",
       "      <td>CLG0055</td>\n",
       "      <td>122</td>\n",
       "      <td>5.47</td>\n",
       "      <td>5.75</td>\n",
       "      <td>6</td>\n",
       "      <td>Yes</td>\n",
       "      <td>1</td>\n",
       "      <td>6</td>\n",
       "      <td>1</td>\n",
       "      <td>No</td>\n",
       "    </tr>\n",
       "    <tr>\n",
       "      <th>4</th>\n",
       "      <td>CLG0004</td>\n",
       "      <td>96</td>\n",
       "      <td>7.91</td>\n",
       "      <td>7.69</td>\n",
       "      <td>7</td>\n",
       "      <td>No</td>\n",
       "      <td>8</td>\n",
       "      <td>10</td>\n",
       "      <td>2</td>\n",
       "      <td>No</td>\n",
       "    </tr>\n",
       "  </tbody>\n",
       "</table>\n",
       "</div>"
      ],
      "text/plain": [
       "  College_ID   IQ  Prev_Sem_Result  CGPA  Academic_Performance  \\\n",
       "0    CLG0030  107             6.61  6.28                     8   \n",
       "1    CLG0061   97             5.52  5.37                     8   \n",
       "2    CLG0036  109             5.36  5.83                     9   \n",
       "3    CLG0055  122             5.47  5.75                     6   \n",
       "4    CLG0004   96             7.91  7.69                     7   \n",
       "\n",
       "  Internship_Experience  Extra_Curricular_Score  Communication_Skills  \\\n",
       "0                    No                       8                     8   \n",
       "1                    No                       7                     8   \n",
       "2                    No                       3                     1   \n",
       "3                   Yes                       1                     6   \n",
       "4                    No                       8                    10   \n",
       "\n",
       "   Projects_Completed Placement  \n",
       "0                   4        No  \n",
       "1                   0        No  \n",
       "2                   1        No  \n",
       "3                   1        No  \n",
       "4                   2        No  "
      ]
     },
     "execution_count": 4,
     "metadata": {},
     "output_type": "execute_result"
    }
   ],
   "source": [
    "df.head()"
   ]
  },
  {
   "cell_type": "code",
   "execution_count": 5,
   "id": "77181f7e",
   "metadata": {},
   "outputs": [
    {
     "data": {
      "text/plain": [
       "(10000, 10)"
      ]
     },
     "execution_count": 5,
     "metadata": {},
     "output_type": "execute_result"
    }
   ],
   "source": [
    "df.shape"
   ]
  },
  {
   "cell_type": "code",
   "execution_count": 6,
   "id": "ef13f5b4",
   "metadata": {},
   "outputs": [
    {
     "name": "stdout",
     "output_type": "stream",
     "text": [
      "<class 'pandas.core.frame.DataFrame'>\n",
      "RangeIndex: 10000 entries, 0 to 9999\n",
      "Data columns (total 10 columns):\n",
      " #   Column                  Non-Null Count  Dtype  \n",
      "---  ------                  --------------  -----  \n",
      " 0   College_ID              10000 non-null  object \n",
      " 1   IQ                      10000 non-null  int64  \n",
      " 2   Prev_Sem_Result         10000 non-null  float64\n",
      " 3   CGPA                    10000 non-null  float64\n",
      " 4   Academic_Performance    10000 non-null  int64  \n",
      " 5   Internship_Experience   10000 non-null  object \n",
      " 6   Extra_Curricular_Score  10000 non-null  int64  \n",
      " 7   Communication_Skills    10000 non-null  int64  \n",
      " 8   Projects_Completed      10000 non-null  int64  \n",
      " 9   Placement               10000 non-null  object \n",
      "dtypes: float64(2), int64(5), object(3)\n",
      "memory usage: 781.4+ KB\n"
     ]
    }
   ],
   "source": [
    "df.info()"
   ]
  },
  {
   "cell_type": "code",
   "execution_count": 8,
   "id": "1b286583",
   "metadata": {},
   "outputs": [
    {
     "data": {
      "application/vnd.microsoft.datawrangler.viewer.v0+json": {
       "columns": [
        {
         "name": "index",
         "rawType": "object",
         "type": "string"
        },
        {
         "name": "count",
         "rawType": "object",
         "type": "unknown"
        },
        {
         "name": "unique",
         "rawType": "object",
         "type": "unknown"
        },
        {
         "name": "top",
         "rawType": "object",
         "type": "unknown"
        },
        {
         "name": "freq",
         "rawType": "object",
         "type": "unknown"
        },
        {
         "name": "mean",
         "rawType": "object",
         "type": "unknown"
        },
        {
         "name": "std",
         "rawType": "object",
         "type": "unknown"
        },
        {
         "name": "min",
         "rawType": "object",
         "type": "unknown"
        },
        {
         "name": "25%",
         "rawType": "object",
         "type": "unknown"
        },
        {
         "name": "50%",
         "rawType": "object",
         "type": "unknown"
        },
        {
         "name": "75%",
         "rawType": "object",
         "type": "unknown"
        },
        {
         "name": "max",
         "rawType": "object",
         "type": "unknown"
        }
       ],
       "ref": "5ad6f7e3-6973-4d7f-96d1-71bea327cd29",
       "rows": [
        [
         "College_ID",
         "10000",
         "100",
         "CLG0062",
         "133",
         null,
         null,
         null,
         null,
         null,
         null,
         null
        ],
        [
         "IQ",
         "10000.0",
         null,
         null,
         null,
         "99.4718",
         "15.053101485954137",
         "41.0",
         "89.0",
         "99.0",
         "110.0",
         "158.0"
        ],
        [
         "Prev_Sem_Result",
         "10000.0",
         null,
         null,
         null,
         "7.535672999999999",
         "1.4475188282529574",
         "5.0",
         "6.29",
         "7.56",
         "8.79",
         "10.0"
        ],
        [
         "CGPA",
         "10000.0",
         null,
         null,
         null,
         "7.532379000000001",
         "1.470140980249575",
         "4.54",
         "6.29",
         "7.55",
         "8.77",
         "10.46"
        ],
        [
         "Academic_Performance",
         "10000.0",
         null,
         null,
         null,
         "5.5464",
         "2.873477462461247",
         "1.0",
         "3.0",
         "6.0",
         "8.0",
         "10.0"
        ],
        [
         "Internship_Experience",
         "10000",
         "2",
         "No",
         "6036",
         null,
         null,
         null,
         null,
         null,
         null,
         null
        ],
        [
         "Extra_Curricular_Score",
         "10000.0",
         null,
         null,
         null,
         "4.9709",
         "3.160103133630533",
         "0.0",
         "2.0",
         "5.0",
         "8.0",
         "10.0"
        ],
        [
         "Communication_Skills",
         "10000.0",
         null,
         null,
         null,
         "5.5618",
         "2.900865778043897",
         "1.0",
         "3.0",
         "6.0",
         "8.0",
         "10.0"
        ],
        [
         "Projects_Completed",
         "10000.0",
         null,
         null,
         null,
         "2.5134",
         "1.7159588839739572",
         "0.0",
         "1.0",
         "3.0",
         "4.0",
         "5.0"
        ],
        [
         "Placement",
         "10000",
         "2",
         "No",
         "8341",
         null,
         null,
         null,
         null,
         null,
         null,
         null
        ]
       ],
       "shape": {
        "columns": 11,
        "rows": 10
       }
      },
      "text/html": [
       "<div>\n",
       "<style scoped>\n",
       "    .dataframe tbody tr th:only-of-type {\n",
       "        vertical-align: middle;\n",
       "    }\n",
       "\n",
       "    .dataframe tbody tr th {\n",
       "        vertical-align: top;\n",
       "    }\n",
       "\n",
       "    .dataframe thead th {\n",
       "        text-align: right;\n",
       "    }\n",
       "</style>\n",
       "<table border=\"1\" class=\"dataframe\">\n",
       "  <thead>\n",
       "    <tr style=\"text-align: right;\">\n",
       "      <th></th>\n",
       "      <th>count</th>\n",
       "      <th>unique</th>\n",
       "      <th>top</th>\n",
       "      <th>freq</th>\n",
       "      <th>mean</th>\n",
       "      <th>std</th>\n",
       "      <th>min</th>\n",
       "      <th>25%</th>\n",
       "      <th>50%</th>\n",
       "      <th>75%</th>\n",
       "      <th>max</th>\n",
       "    </tr>\n",
       "  </thead>\n",
       "  <tbody>\n",
       "    <tr>\n",
       "      <th>College_ID</th>\n",
       "      <td>10000</td>\n",
       "      <td>100</td>\n",
       "      <td>CLG0062</td>\n",
       "      <td>133</td>\n",
       "      <td>NaN</td>\n",
       "      <td>NaN</td>\n",
       "      <td>NaN</td>\n",
       "      <td>NaN</td>\n",
       "      <td>NaN</td>\n",
       "      <td>NaN</td>\n",
       "      <td>NaN</td>\n",
       "    </tr>\n",
       "    <tr>\n",
       "      <th>IQ</th>\n",
       "      <td>10000.0</td>\n",
       "      <td>NaN</td>\n",
       "      <td>NaN</td>\n",
       "      <td>NaN</td>\n",
       "      <td>99.4718</td>\n",
       "      <td>15.053101</td>\n",
       "      <td>41.0</td>\n",
       "      <td>89.0</td>\n",
       "      <td>99.0</td>\n",
       "      <td>110.0</td>\n",
       "      <td>158.0</td>\n",
       "    </tr>\n",
       "    <tr>\n",
       "      <th>Prev_Sem_Result</th>\n",
       "      <td>10000.0</td>\n",
       "      <td>NaN</td>\n",
       "      <td>NaN</td>\n",
       "      <td>NaN</td>\n",
       "      <td>7.535673</td>\n",
       "      <td>1.447519</td>\n",
       "      <td>5.0</td>\n",
       "      <td>6.29</td>\n",
       "      <td>7.56</td>\n",
       "      <td>8.79</td>\n",
       "      <td>10.0</td>\n",
       "    </tr>\n",
       "    <tr>\n",
       "      <th>CGPA</th>\n",
       "      <td>10000.0</td>\n",
       "      <td>NaN</td>\n",
       "      <td>NaN</td>\n",
       "      <td>NaN</td>\n",
       "      <td>7.532379</td>\n",
       "      <td>1.470141</td>\n",
       "      <td>4.54</td>\n",
       "      <td>6.29</td>\n",
       "      <td>7.55</td>\n",
       "      <td>8.77</td>\n",
       "      <td>10.46</td>\n",
       "    </tr>\n",
       "    <tr>\n",
       "      <th>Academic_Performance</th>\n",
       "      <td>10000.0</td>\n",
       "      <td>NaN</td>\n",
       "      <td>NaN</td>\n",
       "      <td>NaN</td>\n",
       "      <td>5.5464</td>\n",
       "      <td>2.873477</td>\n",
       "      <td>1.0</td>\n",
       "      <td>3.0</td>\n",
       "      <td>6.0</td>\n",
       "      <td>8.0</td>\n",
       "      <td>10.0</td>\n",
       "    </tr>\n",
       "    <tr>\n",
       "      <th>Internship_Experience</th>\n",
       "      <td>10000</td>\n",
       "      <td>2</td>\n",
       "      <td>No</td>\n",
       "      <td>6036</td>\n",
       "      <td>NaN</td>\n",
       "      <td>NaN</td>\n",
       "      <td>NaN</td>\n",
       "      <td>NaN</td>\n",
       "      <td>NaN</td>\n",
       "      <td>NaN</td>\n",
       "      <td>NaN</td>\n",
       "    </tr>\n",
       "    <tr>\n",
       "      <th>Extra_Curricular_Score</th>\n",
       "      <td>10000.0</td>\n",
       "      <td>NaN</td>\n",
       "      <td>NaN</td>\n",
       "      <td>NaN</td>\n",
       "      <td>4.9709</td>\n",
       "      <td>3.160103</td>\n",
       "      <td>0.0</td>\n",
       "      <td>2.0</td>\n",
       "      <td>5.0</td>\n",
       "      <td>8.0</td>\n",
       "      <td>10.0</td>\n",
       "    </tr>\n",
       "    <tr>\n",
       "      <th>Communication_Skills</th>\n",
       "      <td>10000.0</td>\n",
       "      <td>NaN</td>\n",
       "      <td>NaN</td>\n",
       "      <td>NaN</td>\n",
       "      <td>5.5618</td>\n",
       "      <td>2.900866</td>\n",
       "      <td>1.0</td>\n",
       "      <td>3.0</td>\n",
       "      <td>6.0</td>\n",
       "      <td>8.0</td>\n",
       "      <td>10.0</td>\n",
       "    </tr>\n",
       "    <tr>\n",
       "      <th>Projects_Completed</th>\n",
       "      <td>10000.0</td>\n",
       "      <td>NaN</td>\n",
       "      <td>NaN</td>\n",
       "      <td>NaN</td>\n",
       "      <td>2.5134</td>\n",
       "      <td>1.715959</td>\n",
       "      <td>0.0</td>\n",
       "      <td>1.0</td>\n",
       "      <td>3.0</td>\n",
       "      <td>4.0</td>\n",
       "      <td>5.0</td>\n",
       "    </tr>\n",
       "    <tr>\n",
       "      <th>Placement</th>\n",
       "      <td>10000</td>\n",
       "      <td>2</td>\n",
       "      <td>No</td>\n",
       "      <td>8341</td>\n",
       "      <td>NaN</td>\n",
       "      <td>NaN</td>\n",
       "      <td>NaN</td>\n",
       "      <td>NaN</td>\n",
       "      <td>NaN</td>\n",
       "      <td>NaN</td>\n",
       "      <td>NaN</td>\n",
       "    </tr>\n",
       "  </tbody>\n",
       "</table>\n",
       "</div>"
      ],
      "text/plain": [
       "                          count unique      top  freq      mean        std  \\\n",
       "College_ID                10000    100  CLG0062   133       NaN        NaN   \n",
       "IQ                      10000.0    NaN      NaN   NaN   99.4718  15.053101   \n",
       "Prev_Sem_Result         10000.0    NaN      NaN   NaN  7.535673   1.447519   \n",
       "CGPA                    10000.0    NaN      NaN   NaN  7.532379   1.470141   \n",
       "Academic_Performance    10000.0    NaN      NaN   NaN    5.5464   2.873477   \n",
       "Internship_Experience     10000      2       No  6036       NaN        NaN   \n",
       "Extra_Curricular_Score  10000.0    NaN      NaN   NaN    4.9709   3.160103   \n",
       "Communication_Skills    10000.0    NaN      NaN   NaN    5.5618   2.900866   \n",
       "Projects_Completed      10000.0    NaN      NaN   NaN    2.5134   1.715959   \n",
       "Placement                 10000      2       No  8341       NaN        NaN   \n",
       "\n",
       "                         min   25%   50%    75%    max  \n",
       "College_ID               NaN   NaN   NaN    NaN    NaN  \n",
       "IQ                      41.0  89.0  99.0  110.0  158.0  \n",
       "Prev_Sem_Result          5.0  6.29  7.56   8.79   10.0  \n",
       "CGPA                    4.54  6.29  7.55   8.77  10.46  \n",
       "Academic_Performance     1.0   3.0   6.0    8.0   10.0  \n",
       "Internship_Experience    NaN   NaN   NaN    NaN    NaN  \n",
       "Extra_Curricular_Score   0.0   2.0   5.0    8.0   10.0  \n",
       "Communication_Skills     1.0   3.0   6.0    8.0   10.0  \n",
       "Projects_Completed       0.0   1.0   3.0    4.0    5.0  \n",
       "Placement                NaN   NaN   NaN    NaN    NaN  "
      ]
     },
     "execution_count": 8,
     "metadata": {},
     "output_type": "execute_result"
    }
   ],
   "source": [
    "df.describe(include='all').T"
   ]
  }
 ],
 "metadata": {
  "kernelspec": {
   "display_name": "college-placement-prediction-j2pbnr75-py3.11",
   "language": "python",
   "name": "python3"
  },
  "language_info": {
   "codemirror_mode": {
    "name": "ipython",
    "version": 3
   },
   "file_extension": ".py",
   "mimetype": "text/x-python",
   "name": "python",
   "nbconvert_exporter": "python",
   "pygments_lexer": "ipython3",
   "version": "3.11.9"
  }
 },
 "nbformat": 4,
 "nbformat_minor": 5
}
