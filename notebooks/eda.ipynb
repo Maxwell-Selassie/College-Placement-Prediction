{
 "cells": [
  {
   "cell_type": "markdown",
   "id": "999626ad",
   "metadata": {
    "vscode": {
     "languageId": "bat"
    }
   },
   "source": [
    "# ***`College Placement Prediction`***"
   ]
  },
  {
   "cell_type": "markdown",
   "id": "7a9be8d7",
   "metadata": {},
   "source": [
    "This is a machine learning model to predict wether a student got placement into college or not. This analysis made based on features such as IQ, internship experience, academic performance, among others. The goal of this project is to build an end-to-end machine learning model to be able to predict whether a student will receive placement into college based on the certain feeatures"
   ]
  }
 ],
 "metadata": {
  "language_info": {
   "name": "python"
  }
 },
 "nbformat": 4,
 "nbformat_minor": 5
}
