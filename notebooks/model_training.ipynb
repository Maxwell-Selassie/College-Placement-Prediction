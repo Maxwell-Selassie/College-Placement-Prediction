{
 "cells": [
  {
   "cell_type": "markdown",
   "id": "44ccaaa2",
   "metadata": {},
   "source": [
    "# $Baseline$ $Model$ $Training$"
   ]
  },
  {
   "cell_type": "code",
   "execution_count": 19,
   "id": "a65cacd5",
   "metadata": {},
   "outputs": [],
   "source": [
    "from sklearn.preprocessing import StandardScaler,PolynomialFeatures\n",
    "from sklearn.model_selection import train_test_split,StratifiedKFold, cross_val_score,GridSearchCV\n",
    "from sklearn.pipeline import Pipeline\n",
    "from sklearn.compose import ColumnTransformer\n",
    "from sklearn.linear_model import LogisticRegression\n",
    "from xgboost import XGBClassifier\n",
    "from sklearn.tree import DecisionTreeClassifier\n",
    "from sklearn.ensemble import RandomForestClassifier\n",
    "import numpy as np\n",
    "import pandas as pd"
   ]
  },
  {
   "cell_type": "code",
   "execution_count": 2,
   "id": "26061c84",
   "metadata": {},
   "outputs": [],
   "source": [
    "try:\n",
    "    df = pd.read_csv('../data/Processed_CollegePlacement.csv')\n",
    "except FileNotFoundError:\n",
    "    print('File Not Found! Please check file path and try again!')"
   ]
  },
  {
   "cell_type": "code",
   "execution_count": 3,
   "id": "bd900de7",
   "metadata": {},
   "outputs": [],
   "source": [
    "x = df.drop(columns=['Placement','College_ID']).copy()\n",
    "y = df['Placement'].copy()"
   ]
  },
  {
   "cell_type": "code",
   "execution_count": 4,
   "id": "6edfeb97",
   "metadata": {},
   "outputs": [
    {
     "data": {
      "application/vnd.microsoft.datawrangler.viewer.v0+json": {
       "columns": [
        {
         "name": "Placement",
         "rawType": "int64",
         "type": "integer"
        },
        {
         "name": "count",
         "rawType": "int64",
         "type": "integer"
        }
       ],
       "ref": "2b1f0b10-7f03-4be0-9768-d530bc830411",
       "rows": [
        [
         "0",
         "8341"
        ],
        [
         "1",
         "1659"
        ]
       ],
       "shape": {
        "columns": 1,
        "rows": 2
       }
      },
      "text/plain": [
       "Placement\n",
       "0    8341\n",
       "1    1659\n",
       "Name: count, dtype: int64"
      ]
     },
     "execution_count": 4,
     "metadata": {},
     "output_type": "execute_result"
    }
   ],
   "source": [
    "y.value_counts()"
   ]
  },
  {
   "cell_type": "markdown",
   "id": "9a7832c1",
   "metadata": {},
   "source": [
    "$Insight$ ~ `Class samples are imbalanced`"
   ]
  },
  {
   "cell_type": "code",
   "execution_count": 5,
   "id": "9b4d3927",
   "metadata": {},
   "outputs": [],
   "source": [
    "# train - test split\n",
    "x_train,x_test,y_train,y_test = train_test_split(\n",
    "    x, y, test_size=0.3, stratify=y\n",
    ")\n",
    "\n",
    "x_train.to_csv('../data/x_train.csv',index=False)\n",
    "x_test.to_csv('../data/x_test.csv',index=False)\n",
    "y_train.to_csv('../data/y_train.csv',index=False)\n",
    "y_test.to_csv('../data/y_test.csv',index=False)"
   ]
  },
  {
   "cell_type": "code",
   "execution_count": 25,
   "id": "6cb124a5",
   "metadata": {},
   "outputs": [],
   "source": [
    "# preprocessing and feature scaling\n",
    "preprocessor = ColumnTransformer(transformers=[\n",
    "    ('scaler',StandardScaler(),x_train.columns),\n",
    "    ('poly',PolynomialFeatures(include_bias=False),x_train.columns)\n",
    "],verbose_feature_names_out=False)"
   ]
  },
  {
   "cell_type": "code",
   "execution_count": null,
   "id": "c69fe5ba",
   "metadata": {},
   "outputs": [
    {
     "name": "stdout",
     "output_type": "stream",
     "text": [
      "Training Logistic_Regression.This May Take A While...\n"
     ]
    },
    {
     "name": "stderr",
     "output_type": "stream",
     "text": [
      "[Parallel(n_jobs=-1)]: Using backend LokyBackend with 8 concurrent workers.\n",
      "[Parallel(n_jobs=-1)]: Done   2 out of   5 | elapsed:    0.1s remaining:    0.2s\n",
      "[Parallel(n_jobs=-1)]: Done   5 out of   5 | elapsed:    0.2s finished\n",
      "[Parallel(n_jobs=-1)]: Using backend LokyBackend with 8 concurrent workers.\n",
      "[Parallel(n_jobs=-1)]: Done   2 out of   5 | elapsed:    0.0s remaining:    0.0s\n",
      "[Parallel(n_jobs=-1)]: Done   5 out of   5 | elapsed:    0.0s finished\n",
      "[Parallel(n_jobs=-1)]: Using backend LokyBackend with 8 concurrent workers.\n"
     ]
    },
    {
     "name": "stdout",
     "output_type": "stream",
     "text": [
      "--------------------------------------------------\n",
      "Training Decision_Tree.This May Take A While...\n",
      "--------------------------------------------------\n",
      "Training Random_Forest.This May Take A While...\n"
     ]
    },
    {
     "name": "stderr",
     "output_type": "stream",
     "text": [
      "[Parallel(n_jobs=-1)]: Done   2 out of   5 | elapsed:    1.0s remaining:    1.5s\n",
      "[Parallel(n_jobs=-1)]: Done   5 out of   5 | elapsed:    1.0s finished\n",
      "[Parallel(n_jobs=-1)]: Using backend LokyBackend with 8 concurrent workers.\n"
     ]
    },
    {
     "name": "stdout",
     "output_type": "stream",
     "text": [
      "--------------------------------------------------\n",
      "Training XGBoost.This May Take A While...\n",
      "--------------------------------------------------\n",
      "Model : Logistic_Regression\n",
      "cv across folds :  [0.85       0.86       0.84928571 0.84714286 0.85857143]\n",
      "cv mean :  0.853\n",
      "cv std :  0.005237229365663794\n",
      "--------------------------------------------------\n",
      "Model : Decision_Tree\n",
      "cv across folds :  [1.         1.         1.         0.99928571 1.        ]\n",
      "cv mean :  0.9998571428571429\n",
      "cv std :  0.0002857142857142669\n",
      "--------------------------------------------------\n",
      "Model : Random_Forest\n",
      "cv across folds :  [0.99928571 1.         0.99928571 0.99785714 0.99928571]\n",
      "cv mean :  0.9991428571428571\n",
      "cv std :  0.0006998542122237599\n",
      "--------------------------------------------------\n",
      "Model : XGBoost\n",
      "cv across folds :  [1. 1. 1. 1. 1.]\n",
      "cv mean :  1.0\n",
      "cv std :  0.0\n",
      "--------------------------------------------------\n"
     ]
    },
    {
     "name": "stderr",
     "output_type": "stream",
     "text": [
      "[Parallel(n_jobs=-1)]: Done   2 out of   5 | elapsed:    0.1s remaining:    0.2s\n",
      "[Parallel(n_jobs=-1)]: Done   5 out of   5 | elapsed:    0.1s finished\n"
     ]
    }
   ],
   "source": [
    "# baseline models\n",
    "name_models = {\n",
    "    'Logistic_Regression' : LogisticRegression(penalty='l1',class_weight='balanced',random_state=42,max_iter=1000,solver='saga'),\n",
    "    'Decision_Tree' : DecisionTreeClassifier(random_state=537,class_weight='balanced'),\n",
    "    'Random_Forest' : RandomForestClassifier(random_state=537,class_weight='balanced'),\n",
    "    'XGBoost' : XGBClassifier(objective='binary:logistic',random_state=42)\n",
    "}\n",
    "\n",
    "cv = StratifiedKFold(n_splits=5,shuffle=True,random_state=537)\n",
    "\n",
    "results = {}\n",
    "for name, models in name_models.items():\n",
    "    print(f'Training {name}.This May Take A While...')\n",
    "    pipe = Pipeline(steps=[\n",
    "        ('preprocessor',preprocessor),\n",
    "        ('classifier',models)\n",
    "    ])\n",
    "\n",
    "    cv_score = cross_val_score(pipe, x_train, y_train, cv = cv, scoring='accuracy', n_jobs=-1,verbose=1)\n",
    "\n",
    "    results[name] = {\n",
    "        'CV accuracy across folds' : cv_score,\n",
    "        'CV mean score' : cv_score.mean(),\n",
    "        'CV std score' : cv_score.std()\n",
    "    }\n",
    "    print('-'*50)\n",
    "\n",
    "\n",
    "for name, result in results.items():\n",
    "    print(f'Model : {name}')\n",
    "    print('cv across folds : ',result['CV accuracy across folds'])\n",
    "    print('cv mean : ',result['CV mean score'])\n",
    "    print('cv std : ',result['CV std score'])\n",
    "    print('-'*50)"
   ]
  },
  {
   "cell_type": "code",
   "execution_count": 17,
   "id": "70aa7c03",
   "metadata": {},
   "outputs": [
    {
     "name": "stdout",
     "output_type": "stream",
     "text": [
      "XGBoost\n"
     ]
    }
   ],
   "source": [
    "# best model\n",
    "best_model = max(results,key=lambda name : results[name]['CV mean score'])\n",
    "print(best_model)"
   ]
  },
  {
   "cell_type": "code",
   "execution_count": 26,
   "id": "38c286fe",
   "metadata": {},
   "outputs": [
    {
     "name": "stdout",
     "output_type": "stream",
     "text": [
      "Best Score :  0.9998571428571429\n",
      "Best Params :  {'classifier__learning_rate': 0.05, 'classifier__max_depth': 4, 'classifier__n_estimators': 100, 'classifier__scale_pos_weight': np.float64(4.023428079242033), 'preprocessor__poly__degree': 2}\n"
     ]
    }
   ],
   "source": [
    "# Tuning the best model (XGBoost)\n",
    "xgb_pipe = Pipeline(steps=[\n",
    "    ('preprocessor',preprocessor),\n",
    "    ('classifier',XGBClassifier(objective='binary:logistic', random_state = 537))\n",
    "])\n",
    "\n",
    "negative_class = (y_train == 0).sum()\n",
    "positive_class = (y_train == 1).sum()\n",
    "scale_pos_weight  = negative_class / positive_class\n",
    "\n",
    "\n",
    "xgb_params_grid = {\n",
    "    'classifier__n_estimators' : [80,100,120],\n",
    "    'classifier__max_depth' : [2,4,6],\n",
    "    'preprocessor__poly__degree' : [1,2],\n",
    "    'classifier__learning_rate' : [0.01,0.05,0.1],\n",
    "    'classifier__scale_pos_weight' : [scale_pos_weight * 0.8,\n",
    "                                    scale_pos_weight,\n",
    "                                    scale_pos_weight * 1.2]\n",
    "}\n",
    "\n",
    "model = GridSearchCV(estimator=xgb_pipe, param_grid=xgb_params_grid, scoring= 'accuracy', refit= True, n_jobs = -1,cv=cv)\n",
    "model.fit(x_train,y_train)\n",
    "\n",
    "print('Best Score : ',model.best_score_)\n",
    "print('Best Params : ',model.best_params_)"
   ]
  },
  {
   "cell_type": "code",
   "execution_count": 33,
   "id": "97d24165",
   "metadata": {},
   "outputs": [],
   "source": [
    "import matplotlib.pyplot as plt\n",
    "import seaborn as sns\n",
    "from sklearn.metrics import confusion_matrix,ConfusionMatrixDisplay,precision_score,recall_score,confusion_matrix,accuracy_score"
   ]
  },
  {
   "cell_type": "code",
   "execution_count": 30,
   "id": "fc5b16b6",
   "metadata": {},
   "outputs": [],
   "source": [
    "best_model_ = model.best_estimator_"
   ]
  },
  {
   "cell_type": "code",
   "execution_count": null,
   "id": "b1a7593b",
   "metadata": {},
   "outputs": [
    {
     "data": {
      "text/plain": [
       "array([[1, 0],\n",
       "       [0, 1],\n",
       "       [1, 0],\n",
       "       ...,\n",
       "       [1, 0],\n",
       "       [1, 0],\n",
       "       [1, 0]], shape=(3000, 2))"
      ]
     },
     "execution_count": 38,
     "metadata": {},
     "output_type": "execute_result"
    }
   ],
   "source": [
    "# prediction\n",
    "y_probs = best_model_.predict_proba(x_test)\n",
    "threshold = 0.5\n",
    "y_pred = (y_probs >= threshold).astype(int)"
   ]
  },
  {
   "cell_type": "code",
   "execution_count": null,
   "id": "01ef0104",
   "metadata": {},
   "outputs": [
    {
     "data": {
      "text/plain": [
       "<sklearn.metrics._plot.confusion_matrix.ConfusionMatrixDisplay at 0x208b8e26b10>"
      ]
     },
     "execution_count": 41,
     "metadata": {},
     "output_type": "execute_result"
    }
   ],
   "source": [
    "y_pred = best_model.predict(x_test)\n",
    "cm = confusion_matrix(y_test,y_pred)\n",
    "disp = ConfusionMatrixDisplay(confusion_matrix=cm)\n"
   ]
  }
 ],
 "metadata": {
  "kernelspec": {
   "display_name": "college-placement-prediction-j2pbnr75-py3.11",
   "language": "python",
   "name": "python3"
  },
  "language_info": {
   "codemirror_mode": {
    "name": "ipython",
    "version": 3
   },
   "file_extension": ".py",
   "mimetype": "text/x-python",
   "name": "python",
   "nbconvert_exporter": "python",
   "pygments_lexer": "ipython3",
   "version": "3.11.9"
  }
 },
 "nbformat": 4,
 "nbformat_minor": 5
}
